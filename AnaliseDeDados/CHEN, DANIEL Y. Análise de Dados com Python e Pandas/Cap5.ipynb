{
 "cells": [
  {
   "cell_type": "code",
   "execution_count": 4,
   "id": "864292f1-a558-4b19-b661-e722cc686d15",
   "metadata": {},
   "outputs": [],
   "source": [
    "import pandas as pd\n",
    "import numpy as np"
   ]
  },
  {
   "cell_type": "code",
   "execution_count": 7,
   "id": "b8752cfa-35e7-4a58-b9c7-bc720b6f9462",
   "metadata": {},
   "outputs": [
    {
     "name": "stdout",
     "output_type": "stream",
     "text": [
      "True\n",
      "True\n"
     ]
    }
   ],
   "source": [
    "#Nan não é equilvamente a nenhum outro valor, como 0 ou uma\n",
    "#string vazia, assim como eles não podem ser comparados entre si\n",
    "#tem funções que fazem essa comparação\n",
    "\n",
    "print (pd.isnull(np.nan))\n",
    "print (pd.isnull(np.NaN))"
   ]
  },
  {
   "cell_type": "code",
   "execution_count": null,
   "id": "02b8e0fa-a377-4550-84d7-a1d617e82faa",
   "metadata": {},
   "outputs": [],
   "source": [
    "#o pandas tem um suporte para lidar com falta de valores, mas se eu quiser\n",
    "#posso alterar o parâMmetro na_values na função read\n",
    "\n"
   ]
  }
 ],
 "metadata": {
  "kernelspec": {
   "display_name": "Python 3 (ipykernel)",
   "language": "python",
   "name": "python3"
  },
  "language_info": {
   "codemirror_mode": {
    "name": "ipython",
    "version": 3
   },
   "file_extension": ".py",
   "mimetype": "text/x-python",
   "name": "python",
   "nbconvert_exporter": "python",
   "pygments_lexer": "ipython3",
   "version": "3.11.6"
  }
 },
 "nbformat": 4,
 "nbformat_minor": 5
}
