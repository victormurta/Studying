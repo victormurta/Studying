{
 "cells": [
  {
   "cell_type": "code",
   "execution_count": 1,
   "id": "e6a01c73-29cf-4ccd-b77c-15a2b72c1209",
   "metadata": {},
   "outputs": [],
   "source": [
    "import pandas as pd"
   ]
  },
  {
   "cell_type": "code",
   "execution_count": 6,
   "id": "2a96b28d-1c1a-474c-ae46-d2cd746efcad",
   "metadata": {},
   "outputs": [
    {
     "data": {
      "text/html": [
       "<div>\n",
       "<style scoped>\n",
       "    .dataframe tbody tr th:only-of-type {\n",
       "        vertical-align: middle;\n",
       "    }\n",
       "\n",
       "    .dataframe tbody tr th {\n",
       "        vertical-align: top;\n",
       "    }\n",
       "\n",
       "    .dataframe thead th {\n",
       "        text-align: right;\n",
       "    }\n",
       "</style>\n",
       "<table border=\"1\" class=\"dataframe\">\n",
       "  <thead>\n",
       "    <tr style=\"text-align: right;\">\n",
       "      <th></th>\n",
       "      <th>country</th>\n",
       "      <th>continent</th>\n",
       "      <th>year</th>\n",
       "      <th>lifeExp</th>\n",
       "      <th>pop</th>\n",
       "      <th>gdpPercap</th>\n",
       "    </tr>\n",
       "  </thead>\n",
       "  <tbody>\n",
       "    <tr>\n",
       "      <th>0</th>\n",
       "      <td>Afghanistan</td>\n",
       "      <td>Asia</td>\n",
       "      <td>1952</td>\n",
       "      <td>28.801</td>\n",
       "      <td>8425333</td>\n",
       "      <td>779.445314</td>\n",
       "    </tr>\n",
       "    <tr>\n",
       "      <th>1</th>\n",
       "      <td>Afghanistan</td>\n",
       "      <td>Asia</td>\n",
       "      <td>1957</td>\n",
       "      <td>30.332</td>\n",
       "      <td>9240934</td>\n",
       "      <td>820.853030</td>\n",
       "    </tr>\n",
       "    <tr>\n",
       "      <th>2</th>\n",
       "      <td>Afghanistan</td>\n",
       "      <td>Asia</td>\n",
       "      <td>1962</td>\n",
       "      <td>31.997</td>\n",
       "      <td>10267083</td>\n",
       "      <td>853.100710</td>\n",
       "    </tr>\n",
       "    <tr>\n",
       "      <th>3</th>\n",
       "      <td>Afghanistan</td>\n",
       "      <td>Asia</td>\n",
       "      <td>1967</td>\n",
       "      <td>34.020</td>\n",
       "      <td>11537966</td>\n",
       "      <td>836.197138</td>\n",
       "    </tr>\n",
       "    <tr>\n",
       "      <th>4</th>\n",
       "      <td>Afghanistan</td>\n",
       "      <td>Asia</td>\n",
       "      <td>1972</td>\n",
       "      <td>36.088</td>\n",
       "      <td>13079460</td>\n",
       "      <td>739.981106</td>\n",
       "    </tr>\n",
       "  </tbody>\n",
       "</table>\n",
       "</div>"
      ],
      "text/plain": [
       "       country continent  year  lifeExp       pop   gdpPercap\n",
       "0  Afghanistan      Asia  1952   28.801   8425333  779.445314\n",
       "1  Afghanistan      Asia  1957   30.332   9240934  820.853030\n",
       "2  Afghanistan      Asia  1962   31.997  10267083  853.100710\n",
       "3  Afghanistan      Asia  1967   34.020  11537966  836.197138\n",
       "4  Afghanistan      Asia  1972   36.088  13079460  739.981106"
      ]
     },
     "execution_count": 6,
     "metadata": {},
     "output_type": "execute_result"
    }
   ],
   "source": [
    "#df = pd.read_csv('gapminder.tsv')\n",
    "df = pd.read_csv('gapminder.tsv', sep = '\\t')\n",
    "df.head()"
   ]
  },
  {
   "cell_type": "code",
   "execution_count": 7,
   "id": "cd83f686-afd8-491d-b01d-5cf3b2e9bcc6",
   "metadata": {},
   "outputs": [
    {
     "name": "stdout",
     "output_type": "stream",
     "text": [
      "<class 'pandas.core.frame.DataFrame'>\n"
     ]
    }
   ],
   "source": [
    "print(type(df))"
   ]
  },
  {
   "cell_type": "code",
   "execution_count": 15,
   "id": "f0d78ffc-1af1-447c-89fe-a8572a9c2419",
   "metadata": {},
   "outputs": [
    {
     "name": "stdout",
     "output_type": "stream",
     "text": [
      "(1704, 6)\n",
      "\n",
      "\n",
      "Index(['country', 'continent', 'year', 'lifeExp', 'pop', 'gdpPercap'], dtype='object')\n"
     ]
    }
   ],
   "source": [
    "#Shape: \n",
    "print(df.shape)\n",
    "#Envolve uma tupla -> (linha,coluna)\n",
    "#É um ATRIBUTO, não um MÉTODO ou FUNÇÃO -> não possui parênteses após o ponto\n",
    "#Bom de saber para se ter uma noção do tamanho e quais informações\n",
    "print('\\n')\n",
    "#Columns: Exibe as colunas e seus rótulos\n",
    "print(df.columns)\n",
    "\n"
   ]
  },
  {
   "cell_type": "code",
   "execution_count": 24,
   "id": "67dfebbd-63cf-4802-9c70-02a837138bf7",
   "metadata": {},
   "outputs": [
    {
     "name": "stdout",
     "output_type": "stream",
     "text": [
      "0    Afghanistan\n",
      "1    Afghanistan\n",
      "2    Afghanistan\n",
      "3    Afghanistan\n",
      "4    Afghanistan\n",
      "Name: country, dtype: object\n",
      "\n",
      "\n",
      "1699    Zimbabwe\n",
      "1700    Zimbabwe\n",
      "1701    Zimbabwe\n",
      "1702    Zimbabwe\n",
      "1703    Zimbabwe\n",
      "Name: country, dtype: object\n",
      "\n",
      "\n",
      "       country continent  year\n",
      "0  Afghanistan      Asia  1952\n",
      "1  Afghanistan      Asia  1957\n",
      "2  Afghanistan      Asia  1962\n",
      "3  Afghanistan      Asia  1967\n",
      "4  Afghanistan      Asia  1972\n",
      "\n",
      "\n",
      "       country continent  year\n",
      "1699  Zimbabwe    Africa  1987\n",
      "1700  Zimbabwe    Africa  1992\n",
      "1701  Zimbabwe    Africa  1997\n",
      "1702  Zimbabwe    Africa  2002\n",
      "1703  Zimbabwe    Africa  2007\n"
     ]
    }
   ],
   "source": [
    "#Acessando os dados de um arquivo.\n",
    "#Interessante ver parte a parte, pois em dataframes muito\n",
    "#grandes fica inviável obsersar tudo de uma vez\n",
    "\n",
    "country_df = df['country']\n",
    "print(country_df.head())\n",
    "print('\\n')\n",
    "#No pandas: abject -> string\n",
    "print(country_df.tail())\n",
    "print('\\n')\n",
    "\n",
    "#Para ver várias colunas utilizamos Listas\n",
    "subset = df[['country', 'continent', 'year']]\n",
    "print(subset.head())\n",
    "print('\\n')\n",
    "print(subset.tail())"
   ]
  },
  {
   "cell_type": "code",
   "execution_count": 40,
   "id": "783916b9-fe61-496c-9fff-5c5b95fadf41",
   "metadata": {},
   "outputs": [
    {
     "name": "stdout",
     "output_type": "stream",
     "text": [
      "UTILIZANDO O LOC:\n",
      "\n",
      "\n",
      "       country continent  year  lifeExp       pop   gdpPercap\n",
      "0  Afghanistan      Asia  1952   28.801   8425333  779.445314\n",
      "1  Afghanistan      Asia  1957   30.332   9240934  820.853030\n",
      "2  Afghanistan      Asia  1962   31.997  10267083  853.100710\n",
      "3  Afghanistan      Asia  1967   34.020  11537966  836.197138\n",
      "4  Afghanistan      Asia  1972   36.088  13079460  739.981106\n",
      "\n",
      "\n",
      "country      Afghanistan\n",
      "continent           Asia\n",
      "year                1952\n",
      "lifeExp           28.801\n",
      "pop              8425333\n",
      "gdpPercap     779.445314\n",
      "Name: 0, dtype: object\n",
      "\n",
      "\n",
      "country      Bangladesh\n",
      "continent          Asia\n",
      "year               1967\n",
      "lifeExp          43.453\n",
      "pop            62821884\n",
      "gdpPercap    721.186086\n",
      "Name: 99, dtype: object\n",
      "\n",
      "\n",
      "country        Zimbabwe\n",
      "continent        Africa\n",
      "year               2007\n",
      "lifeExp          43.487\n",
      "pop            12311143\n",
      "gdpPercap    469.709298\n",
      "Name: 1703, dtype: object\n",
      "\n",
      "\n",
      "Empty DataFrame\n",
      "Columns: [country, continent, year, lifeExp, pop, gdpPercap]\n",
      "Index: []\n",
      "\n",
      "\n"
     ]
    }
   ],
   "source": [
    "#Obtendo subconjuntos de linhas\n",
    "#loc -> encontra utilizando o nome da linha\n",
    "#iloc -> encontra utilizando o numero da linha\n",
    "\n",
    "print('\\n')\n",
    "print(df.head())\n",
    "print('\\n')\n",
    "\n",
    "print(df.loc[0])\n",
    "print('\\n')\n",
    "\n",
    "print(df.loc[99])\n",
    "print('\\n')\n",
    "\n",
    "#Não funciona como nas listas \"padrão\" de python \n",
    "#print(df.loc[-1])\n",
    "\n",
    "#precisa desenvolver um pouco mais:\n",
    "linhas = df.shape[0]\n",
    "ultima_linha = linhas - 1\n",
    "print(df.loc[ultima_linha])\n",
    "print('\\n')\n",
    "#Também é possível fazer via Tail\n",
    "print(df.tail(n=0))\n",
    "print('\\n')"
   ]
  },
  {
   "cell_type": "code",
   "execution_count": 42,
   "id": "6c19e0e4-5fed-4616-802a-16b6f705e00b",
   "metadata": {},
   "outputs": [
    {
     "name": "stdout",
     "output_type": "stream",
     "text": [
      "country        Zimbabwe\n",
      "continent        Africa\n",
      "year               2007\n",
      "lifeExp          43.487\n",
      "pop            12311143\n",
      "gdpPercap    469.709298\n",
      "Name: 1703, dtype: object\n",
      "\n",
      "\n",
      "         country continent  year  lifeExp       pop    gdpPercap\n",
      "0    Afghanistan      Asia  1952   28.801   8425333   779.445314\n",
      "99    Bangladesh      Asia  1967   43.453  62821884   721.186086\n",
      "999     Mongolia      Asia  1967   51.253   1149500  1226.041130\n"
     ]
    }
   ],
   "source": [
    "print(df.iloc[-1])\n",
    "print('\\n')\n",
    "print(df.iloc[[0,99,999]])"
   ]
  },
  {
   "cell_type": "code",
   "execution_count": 46,
   "id": "5584a9d5-ca26-48ef-bac1-1849b7dc86ec",
   "metadata": {},
   "outputs": [
    {
     "name": "stdout",
     "output_type": "stream",
     "text": [
      "Angola\n",
      "\n",
      "\n",
      "Angola\n"
     ]
    }
   ],
   "source": [
    "#Pegando elementos ainda mais específicos\n",
    "print(df.loc[42, 'country'])\n",
    "print('\\n')\n",
    "print(df.iloc[42, 0])"
   ]
  },
  {
   "cell_type": "code",
   "execution_count": 49,
   "id": "320148f4-1485-4519-a389-00e9315047af",
   "metadata": {},
   "outputs": [
    {
     "name": "stdout",
     "output_type": "stream",
     "text": [
      "         country  lifeExp    gdpPercap\n",
      "0    Afghanistan   28.801   779.445314\n",
      "99    Bangladesh   43.453   721.186086\n",
      "999     Mongolia   51.253  1226.041130\n"
     ]
    }
   ],
   "source": [
    "#procurar linhas e colunas específicas\n",
    "print(df.iloc[[0, 99, 999], [0, 3, 5]])"
   ]
  },
  {
   "cell_type": "code",
   "execution_count": null,
   "id": "37dede6c-334b-4e54-a1fc-ee93eb051522",
   "metadata": {},
   "outputs": [],
   "source": [
    "#Realizando Cálculos para resolver problenas:\n",
    "#1. For each year in our data, what was the average life expectancy? what about population and GDP?\n",
    "#2. What if we stratify by continent?\n",
    "#3. How many countries are listed in each continent?\n",
    "# mean -> método que calcula a média"
   ]
  },
  {
   "cell_type": "code",
   "execution_count": 59,
   "id": "b77a2e9e-1507-4332-b17f-19ba0b8e2740",
   "metadata": {},
   "outputs": [
    {
     "name": "stdout",
     "output_type": "stream",
     "text": [
      "year\n",
      "1952    49.057620\n",
      "1957    51.507401\n",
      "1962    53.609249\n",
      "1967    55.678290\n",
      "1972    57.647386\n",
      "1977    59.570157\n",
      "1982    61.533197\n",
      "1987    63.212613\n",
      "1992    64.160338\n",
      "1997    65.014676\n",
      "2002    65.694923\n",
      "2007    67.007423\n",
      "Name: lifeExp, dtype: float64\n"
     ]
    }
   ],
   "source": [
    "print(df.groupby('year')['lifeExp'].mean())\n",
    "mean_lifeExp_by_year = df.groupby('year')['lifeExp'].mean()"
   ]
  },
  {
   "cell_type": "code",
   "execution_count": 62,
   "id": "ea426c87-a6e5-4a7c-ab52-134da0bd25a3",
   "metadata": {},
   "outputs": [
    {
     "name": "stdout",
     "output_type": "stream",
     "text": [
      "                  lifeExp     gdpPercap\n",
      "year continent                         \n",
      "1952 Africa     39.135500   1252.572466\n",
      "     Americas   53.279840   4079.062552\n",
      "     Asia       46.314394   5195.484004\n",
      "     Europe     64.408500   5661.057435\n",
      "     Oceania    69.255000  10298.085650\n",
      "1957 Africa     41.266346   1385.236062\n",
      "     Americas   55.960280   4616.043733\n",
      "     Asia       49.318544   5787.732940\n",
      "     Europe     66.703067   6963.012816\n",
      "     Oceania    70.295000  11598.522455\n",
      "1962 Africa     43.319442   1598.078825\n",
      "     Americas   58.398760   4901.541870\n",
      "     Asia       51.563223   5729.369625\n",
      "     Europe     68.539233   8365.486814\n",
      "     Oceania    71.085000  12696.452430\n",
      "1967 Africa     45.334538   2050.363801\n",
      "     Americas   60.410920   5668.253496\n",
      "     Asia       54.663640   5971.173374\n",
      "     Europe     69.737600  10143.823757\n",
      "     Oceania    71.310000  14495.021790\n",
      "1972 Africa     47.450942   2339.615674\n",
      "     Americas   62.394920   6491.334139\n",
      "     Asia       57.319269   8187.468699\n",
      "     Europe     70.775033  12479.575246\n",
      "     Oceania    71.910000  16417.333380\n",
      "1977 Africa     49.580423   2585.938508\n",
      "     Americas   64.391560   7352.007126\n",
      "     Asia       59.610556   7791.314020\n",
      "     Europe     71.937767  14283.979110\n",
      "     Oceania    72.855000  17283.957605\n",
      "1982 Africa     51.592865   2481.592960\n",
      "     Americas   66.228840   7506.737088\n",
      "     Asia       62.617939   7434.135157\n",
      "     Europe     72.806400  15617.896551\n",
      "     Oceania    74.290000  18554.709840\n",
      "1987 Africa     53.344788   2282.668991\n",
      "     Americas   68.090720   7793.400261\n",
      "     Asia       64.851182   7608.226508\n",
      "     Europe     73.642167  17214.310727\n",
      "     Oceania    75.320000  20448.040160\n",
      "1992 Africa     53.629577   2281.810333\n",
      "     Americas   69.568360   8044.934406\n",
      "     Asia       66.537212   8639.690248\n",
      "     Europe     74.440100  17061.568084\n",
      "     Oceania    76.945000  20894.045885\n",
      "1997 Africa     53.598269   2378.759555\n",
      "     Americas   71.150480   8889.300863\n",
      "     Asia       68.020515   9834.093295\n",
      "     Europe     75.505167  19076.781802\n",
      "     Oceania    78.190000  24024.175170\n",
      "2002 Africa     53.325231   2599.385159\n",
      "     Americas   72.422040   9287.677107\n",
      "     Asia       69.233879  10174.090397\n",
      "     Europe     76.700600  21711.732422\n",
      "     Oceania    79.740000  26938.778040\n",
      "2007 Africa     54.806038   3089.032605\n",
      "     Americas   73.608120  11003.031625\n",
      "     Asia       70.728485  12473.026870\n",
      "     Europe     77.648600  25054.481636\n",
      "     Oceania    80.719500  29810.188275\n"
     ]
    }
   ],
   "source": [
    "print(df.groupby(['year', 'continent'])[['lifeExp', 'gdpPercap']].mean())"
   ]
  },
  {
   "cell_type": "code",
   "execution_count": 72,
   "id": "2248a9bb-11c3-4c22-91a0-512ff5c9c92f",
   "metadata": {},
   "outputs": [
    {
     "name": "stdout",
     "output_type": "stream",
     "text": [
      "continent\n",
      "Africa      52\n",
      "Americas    25\n",
      "Asia        33\n",
      "Europe      30\n",
      "Oceania      2\n",
      "Name: country, dtype: int64\n",
      "\n",
      "\n",
      "continent  country       \n",
      "Africa     Algeria           12\n",
      "           Angola            12\n",
      "           Benin             12\n",
      "           Botswana          12\n",
      "           Burkina Faso      12\n",
      "                             ..\n",
      "Europe     Switzerland       12\n",
      "           Turkey            12\n",
      "           United Kingdom    12\n",
      "Oceania    Australia         12\n",
      "           New Zealand       12\n",
      "Name: count, Length: 142, dtype: int64\n",
      "\n",
      "\n",
      "    country continent  year  lifeExp       pop    gdpPercap\n",
      "24  Algeria    Africa  1952   43.077   9279525  2449.008185\n",
      "25  Algeria    Africa  1957   45.685  10270856  3013.976023\n",
      "26  Algeria    Africa  1962   48.303  11000948  2550.816880\n",
      "27  Algeria    Africa  1967   51.407  12760499  3246.991771\n",
      "28  Algeria    Africa  1972   54.518  14760787  4182.663766\n",
      "29  Algeria    Africa  1977   58.014  17152804  4910.416756\n",
      "30  Algeria    Africa  1982   61.368  20033753  5745.160213\n",
      "31  Algeria    Africa  1987   65.799  23254956  5681.358539\n",
      "32  Algeria    Africa  1992   67.744  26298373  5023.216647\n",
      "33  Algeria    Africa  1997   69.152  29072015  4797.295051\n",
      "34  Algeria    Africa  2002   70.994  31287142  5288.040382\n",
      "35  Algeria    Africa  2007   72.301  33333216  6223.367465\n"
     ]
    }
   ],
   "source": [
    "#calculando frequencias\n",
    "#existe mais de um método para isto\n",
    "#nunique -> calcula a quantidade de valores unicos em cada continente\n",
    "print(df.groupby('continent')['country'].nunique())\n",
    "print('\\n')\n",
    "#Passa o continente, os países e a quantidade de vezes que aparecem\n",
    "print(df.groupby('continent')['country'].value_counts())\n",
    "print('\\n')\n",
    "#checando\n",
    "algeria = df[df['country'] == 'Algeria']\n",
    "print(algeria)"
   ]
  },
  {
   "cell_type": "code",
   "execution_count": 77,
   "id": "5ed48761-054e-4d79-b296-2e6c00ec801e",
   "metadata": {},
   "outputs": [
    {
     "name": "stdout",
     "output_type": "stream",
     "text": [
      "year\n",
      "1952    49.057620\n",
      "1957    51.507401\n",
      "1962    53.609249\n",
      "1967    55.678290\n",
      "1972    57.647386\n",
      "1977    59.570157\n",
      "1982    61.533197\n",
      "1987    63.212613\n",
      "1992    64.160338\n",
      "1997    65.014676\n",
      "2002    65.694923\n",
      "2007    67.007423\n",
      "Name: lifeExp, dtype: float64\n"
     ]
    },
    {
     "data": {
      "text/plain": [
       "<Axes: xlabel='year'>"
      ]
     },
     "execution_count": 77,
     "metadata": {},
     "output_type": "execute_result"
    },
    {
     "data": {
      "image/png": "[encoded data removed]",
      "text/plain": [
       "<Figure size 640x480 with 1 Axes>"
      ]
     },
     "metadata": {},
     "output_type": "display_data"
    }
   ],
   "source": [
    "#VISUALIZAÇÃO\n",
    "#.plot -> gráfico básico\n",
    "EspecVida = df.groupby('year')['lifeExp'].mean()\n",
    "print(EspecVida)\n",
    "EspecVida.plot()"
   ]
  },
  {
   "cell_type": "code",
   "execution_count": null,
   "id": "63b87591-011a-4d9d-8387-5f849c71b24a",
   "metadata": {},
   "outputs": [],
   "source": []
  }
 ],
 "metadata": {
  "kernelspec": {
   "display_name": "Python 3 (ipykernel)",
   "language": "python",
   "name": "python3"
  },
  "language_info": {
   "codemirror_mode": {
    "name": "ipython",
    "version": 3
   },
   "file_extension": ".py",
   "mimetype": "text/x-python",
   "name": "python",
   "nbconvert_exporter": "python",
   "pygments_lexer": "ipython3",
   "version": "3.11.6"
  }
 },
 "nbformat": 4,
 "nbformat_minor": 5
}
