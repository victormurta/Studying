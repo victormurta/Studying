{
 "cells": [
  {
   "cell_type": "code",
   "execution_count": 17,
   "id": "4653c10c-9a6a-40ee-8d60-5af2d3c3a3df",
   "metadata": {},
   "outputs": [],
   "source": [
    "import pandas as pd\n",
    "import numpy as np"
   ]
  },
  {
   "cell_type": "code",
   "execution_count": 18,
   "id": "e4ca6898-ab1e-43f5-9da5-a38e8836c83f",
   "metadata": {},
   "outputs": [
    {
     "name": "stdout",
     "output_type": "stream",
     "text": [
      "0    banana\n",
      "1        42\n",
      "dtype: object\n",
      "\n",
      "\n",
      "Nome            Victor\n",
      "Profissão    professor\n",
      "dtype: object\n"
     ]
    }
   ],
   "source": [
    "#series -> container de uma dimensão próximo ao que é uma lista em python\n",
    "#Todos os elementos precisão tem o mesmo tipo\n",
    "\n",
    "s = pd.Series(['banana', 42])\n",
    "print(s)\n",
    "\n",
    "print('\\n')\n",
    "\n",
    "s = pd.Series(['Victor', 'professor'], index=['Nome','Profissão'] )\n",
    "print(s)"
   ]
  },
  {
   "cell_type": "code",
   "execution_count": 19,
   "id": "825a9e0d-46f0-4118-9919-751939b681b1",
   "metadata": {},
   "outputs": [
    {
     "name": "stdout",
     "output_type": "stream",
     "text": [
      "          Name Ocupation        Nasc       Morte  Idade\n",
      "0  Lucas Moura    Médico  1930-07-25  1985-04-30     55\n",
      "1    Enzo Días  Policial  1957-06-14  1995-01-01     38\n",
      "\n",
      "\n",
      "                     Occupation        Born        Died  Age\n",
      "Rosaline Franklin       Chemist  1920-07-25  1958-04-16   37\n",
      "William Gosset     Statistician  1876-06-13  1937-10-16   61\n"
     ]
    }
   ],
   "source": [
    "#dataframe -> dicionário de objetos tipo series\n",
    "\n",
    "listaPessoas = pd.DataFrame({'Name': ['Lucas Moura', 'Enzo Días'],\n",
    "                             'Ocupation': ['Médico','Policial'],\n",
    "                             'Nasc': ['1930-07-25', '1957-06-14'],\n",
    "                             'Morte': ['1985-04-30', '1995-01-01'],\n",
    "                             'Idade': [55, 38]})\n",
    "print(listaPessoas)\n",
    "\n",
    "print('\\n')\n",
    "#fazendo com ordens definidas\n",
    "scientists = pd.DataFrame(\n",
    "data={'Occupation': ['Chemist', 'Statistician'],\n",
    "'Born': ['1920-07-25', '1876-06-13'],\n",
    "'Died': ['1958-04-16', '1937-10-16'],\n",
    "'Age': [37, 61]},\n",
    "index=['Rosaline Franklin', 'William Gosset'],\n",
    "columns=['Occupation', 'Born', 'Died', 'Age'])\n",
    "print(scientists)\n"
   ]
  },
  {
   "cell_type": "code",
   "execution_count": 20,
   "id": "6eac2136-d068-42f6-bd8e-0c39fb434138",
   "metadata": {},
   "outputs": [
    {
     "name": "stdout",
     "output_type": "stream",
     "text": [
      "<class 'pandas.core.series.Series'>\n",
      "Occupation    Statistician\n",
      "Born            1876-06-13\n",
      "Died            1937-10-16\n",
      "Age                     61\n",
      "Name: William Gosset, dtype: object\n",
      "\n",
      "\n",
      "Rosaline Franklin    37\n",
      "William Gosset       61\n",
      "Name: Age, dtype: int64\n"
     ]
    }
   ],
   "source": [
    "#Printando uma série\n",
    "#printa index como primeira coluna\n",
    "first_row = scientists.loc['William Gosset']\n",
    "print(type(first_row))\n",
    "print(first_row)\n",
    "print('\\n')\n",
    "\n",
    "#focando agora somente em uma coluna e todos os envolvidos\n",
    "ages = scientists['Age']\n",
    "print(ages)"
   ]
  },
  {
   "cell_type": "code",
   "execution_count": 22,
   "id": "434f34b7-41ef-42e4-beaf-8f6445dfb9ac",
   "metadata": {},
   "outputs": [
    {
     "name": "stdout",
     "output_type": "stream",
     "text": [
      "49.0\n",
      "61\n",
      "37\n"
     ]
    }
   ],
   "source": [
    "print(ages.mean())\n",
    "print(ages.max())\n",
    "print(ages.min())"
   ]
  },
  {
   "cell_type": "code",
   "execution_count": 24,
   "id": "6463590d-d861-4835-b687-565c10351416",
   "metadata": {},
   "outputs": [],
   "source": [
    "df = pd.read_csv('gapminder.tsv', sep = '\\t')"
   ]
  },
  {
   "cell_type": "code",
   "execution_count": 37,
   "id": "cc53d085-0593-4b57-8d19-193962ecb69f",
   "metadata": {},
   "outputs": [
    {
     "name": "stdout",
     "output_type": "stream",
     "text": [
      "0       28.801\n",
      "1       30.332\n",
      "2       31.997\n",
      "3       34.020\n",
      "4       36.088\n",
      "         ...  \n",
      "1699    62.351\n",
      "1700    60.377\n",
      "1701    46.809\n",
      "1702    39.989\n",
      "1703    43.487\n",
      "Name: lifeExp, Length: 1704, dtype: float64\n",
      "\n",
      "\n",
      "59.474439366197174\n",
      "\n",
      "\n",
      "count    1704.000000\n",
      "mean       59.474439\n",
      "std        12.917107\n",
      "min        23.599000\n",
      "25%        48.198000\n",
      "50%        60.712500\n",
      "75%        70.845500\n",
      "max        82.603000\n",
      "Name: lifeExp, dtype: float64\n",
      "\n",
      "\n",
      "14      64.820\n",
      "15      66.220\n",
      "16      67.690\n",
      "17      68.930\n",
      "18      70.420\n",
      "         ...  \n",
      "1678    60.308\n",
      "1679    62.698\n",
      "1698    60.363\n",
      "1699    62.351\n",
      "1700    60.377\n",
      "Name: lifeExp, Length: 895, dtype: float64\n",
      "\n",
      "\n"
     ]
    }
   ],
   "source": [
    "lifeExpec = df['lifeExp']\n",
    "print(lifeExpec)\n",
    "print('\\n')\n",
    "\n",
    "print(lifeExpec.mean())\n",
    "print('\\n')\n",
    "\n",
    "print(lifeExpec.describe())\n",
    "print('\\n')\n",
    "\n",
    "print(lifeExpec[lifeExpec > lifeExpec.mean()])\n",
    "print('\\n')"
   ]
  },
  {
   "cell_type": "code",
   "execution_count": null,
   "id": "a1273c1d-3f09-43a1-a4de-9116f5146470",
   "metadata": {},
   "outputs": [],
   "source": [
    "#lebrar que python tem suporte para trabalhar diretamente com vetores\n",
    "#de informações, diferente de outras linguagens. O panda vem com ainda\n",
    "#mais suporte para facilitar contas e operações entre os diferentes conjuntos\n",
    "#de dados.\n"
   ]
  },
  {
   "cell_type": "code",
   "execution_count": 39,
   "id": "9e951fe2-11e5-46cc-9198-4f686088bfed",
   "metadata": {},
   "outputs": [
    {
     "name": "stdout",
     "output_type": "stream",
     "text": [
      "14      64.820\n",
      "15      66.220\n",
      "16      67.690\n",
      "17      68.930\n",
      "18      70.420\n",
      "         ...  \n",
      "1678    60.308\n",
      "1679    62.698\n",
      "1698    60.363\n",
      "1699    62.351\n",
      "1700    60.377\n",
      "Name: lifeExp, Length: 895, dtype: float64\n",
      "\n",
      "\n"
     ]
    }
   ],
   "source": [
    "#DATAFRAME\n",
    "#Basicamente a forma que o python tem de armazenar planilhas\n",
    "#Várias funções das series funcionam com as dataframes\n",
    "\n",
    "print(lifeExpec[df['lifeExp'] > df['lifeExp'].mean()])\n",
    "print('\\n')"
   ]
  },
  {
   "cell_type": "code",
   "execution_count": 52,
   "id": "f2a4610f-89a1-4e7f-956f-2a3ad8a8dd97",
   "metadata": {},
   "outputs": [
    {
     "name": "stdout",
     "output_type": "stream",
     "text": [
      "object\n",
      "object\n",
      "\n",
      "\n",
      "Rosaline Franklin   1920-07-25\n",
      "William Gosset      1876-06-13\n",
      "Name: Born, dtype: datetime64[ns]\n"
     ]
    }
   ],
   "source": [
    "#ALTERANDO DATAFRAMES E SERIES\n",
    "\n",
    "print(scientists['Born'].dtype)\n",
    "print(scientists['Died'].dtype) #--> ambas como objects, mas seriam datetimes\n",
    "print('\\n')\n",
    "\n",
    "born_datetime = pd.to_datetime(scientists['Born'], format = '%Y-%m-%d')\n",
    "print(born_datetime)\n",
    "died_datetime = pd.to_datetime(scientists['Died'], format = '%Y-%m-%d')"
   ]
  },
  {
   "cell_type": "code",
   "execution_count": 54,
   "id": "b5ed9915-c5d0-49ee-bcf9-9019f73ac508",
   "metadata": {},
   "outputs": [
    {
     "name": "stdout",
     "output_type": "stream",
     "text": [
      "                     Occupation        Born        Died  Age    born_dt  \\\n",
      "Rosaline Franklin       Chemist  1920-07-25  1958-04-16   37 1920-07-25   \n",
      "William Gosset     Statistician  1876-06-13  1937-10-16   61 1876-06-13   \n",
      "\n",
      "                     died_dt  \n",
      "Rosaline Franklin 1958-04-16  \n",
      "William Gosset    1937-10-16  \n"
     ]
    }
   ],
   "source": [
    "scientists['born_dt'], scientists['died_dt'] = (born_datetime,\n",
    "died_datetime)\n",
    "print(scientists.head())\n"
   ]
  }
 ],
 "metadata": {
  "kernelspec": {
   "display_name": "Python 3 (ipykernel)",
   "language": "python",
   "name": "python3"
  },
  "language_info": {
   "codemirror_mode": {
    "name": "ipython",
    "version": 3
   },
   "file_extension": ".py",
   "mimetype": "text/x-python",
   "name": "python",
   "nbconvert_exporter": "python",
   "pygments_lexer": "ipython3",
   "version": "3.11.6"
  }
 },
 "nbformat": 4,
 "nbformat_minor": 5
}
